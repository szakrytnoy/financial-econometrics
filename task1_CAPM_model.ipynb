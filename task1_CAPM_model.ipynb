{
 "cells": [
  {
   "cell_type": "code",
   "execution_count": 1,
   "metadata": {},
   "outputs": [],
   "source": [
    "import pandas as pd\n",
    "import numpy as np"
   ]
  },
  {
   "cell_type": "markdown",
   "metadata": {},
   "source": [
    "# Load the data and generate returns"
   ]
  },
  {
   "cell_type": "code",
   "execution_count": 2,
   "metadata": {},
   "outputs": [
    {
     "data": {
      "text/html": [
       "<div>\n",
       "<style scoped>\n",
       "    .dataframe tbody tr th:only-of-type {\n",
       "        vertical-align: middle;\n",
       "    }\n",
       "\n",
       "    .dataframe tbody tr th {\n",
       "        vertical-align: top;\n",
       "    }\n",
       "\n",
       "    .dataframe thead th {\n",
       "        text-align: right;\n",
       "    }\n",
       "</style>\n",
       "<table border=\"1\" class=\"dataframe\">\n",
       "  <thead>\n",
       "    <tr style=\"text-align: right;\">\n",
       "      <th></th>\n",
       "      <th>SANDP</th>\n",
       "      <th>FORD</th>\n",
       "      <th>GE</th>\n",
       "      <th>MICROSOFT</th>\n",
       "      <th>ORACLE</th>\n",
       "      <th>USTB3M</th>\n",
       "    </tr>\n",
       "    <tr>\n",
       "      <th>Date</th>\n",
       "      <th></th>\n",
       "      <th></th>\n",
       "      <th></th>\n",
       "      <th></th>\n",
       "      <th></th>\n",
       "      <th></th>\n",
       "    </tr>\n",
       "  </thead>\n",
       "  <tbody>\n",
       "    <tr>\n",
       "      <th>2002-01-01</th>\n",
       "      <td>1130.20</td>\n",
       "      <td>12.57</td>\n",
       "      <td>25.70</td>\n",
       "      <td>27.33</td>\n",
       "      <td>16.64</td>\n",
       "      <td>1.73</td>\n",
       "    </tr>\n",
       "    <tr>\n",
       "      <th>2002-02-01</th>\n",
       "      <td>1106.73</td>\n",
       "      <td>12.23</td>\n",
       "      <td>26.75</td>\n",
       "      <td>25.02</td>\n",
       "      <td>16.03</td>\n",
       "      <td>1.75</td>\n",
       "    </tr>\n",
       "    <tr>\n",
       "      <th>2002-03-01</th>\n",
       "      <td>1147.39</td>\n",
       "      <td>13.55</td>\n",
       "      <td>25.99</td>\n",
       "      <td>25.87</td>\n",
       "      <td>12.34</td>\n",
       "      <td>1.77</td>\n",
       "    </tr>\n",
       "    <tr>\n",
       "      <th>2002-04-01</th>\n",
       "      <td>1076.92</td>\n",
       "      <td>13.15</td>\n",
       "      <td>21.92</td>\n",
       "      <td>22.41</td>\n",
       "      <td>9.68</td>\n",
       "      <td>1.78</td>\n",
       "    </tr>\n",
       "    <tr>\n",
       "      <th>2002-05-01</th>\n",
       "      <td>1067.14</td>\n",
       "      <td>14.59</td>\n",
       "      <td>21.64</td>\n",
       "      <td>21.84</td>\n",
       "      <td>7.64</td>\n",
       "      <td>1.77</td>\n",
       "    </tr>\n",
       "  </tbody>\n",
       "</table>\n",
       "</div>"
      ],
      "text/plain": [
       "              SANDP   FORD     GE  MICROSOFT  ORACLE  USTB3M\n",
       "Date                                                        \n",
       "2002-01-01  1130.20  12.57  25.70      27.33   16.64    1.73\n",
       "2002-02-01  1106.73  12.23  26.75      25.02   16.03    1.75\n",
       "2002-03-01  1147.39  13.55  25.99      25.87   12.34    1.77\n",
       "2002-04-01  1076.92  13.15  21.92      22.41    9.68    1.78\n",
       "2002-05-01  1067.14  14.59  21.64      21.84    7.64    1.77"
      ]
     },
     "execution_count": 2,
     "metadata": {},
     "output_type": "execute_result"
    }
   ],
   "source": [
    "df = pd.read_excel('capm.xls', index_col = 0)\n",
    "df.head()"
   ]
  },
  {
   "cell_type": "code",
   "execution_count": 3,
   "metadata": {},
   "outputs": [],
   "source": [
    "assets = ['FORD', 'GE', 'MICROSOFT', 'ORACLE']"
   ]
  },
  {
   "cell_type": "code",
   "execution_count": 4,
   "metadata": {},
   "outputs": [
    {
     "data": {
      "text/html": [
       "<div>\n",
       "<style scoped>\n",
       "    .dataframe tbody tr th:only-of-type {\n",
       "        vertical-align: middle;\n",
       "    }\n",
       "\n",
       "    .dataframe tbody tr th {\n",
       "        vertical-align: top;\n",
       "    }\n",
       "\n",
       "    .dataframe thead th {\n",
       "        text-align: right;\n",
       "    }\n",
       "</style>\n",
       "<table border=\"1\" class=\"dataframe\">\n",
       "  <thead>\n",
       "    <tr style=\"text-align: right;\">\n",
       "      <th></th>\n",
       "      <th>RM</th>\n",
       "      <th>RF</th>\n",
       "      <th>FORD</th>\n",
       "      <th>GE</th>\n",
       "      <th>MICROSOFT</th>\n",
       "      <th>ORACLE</th>\n",
       "    </tr>\n",
       "    <tr>\n",
       "      <th>Date</th>\n",
       "      <th></th>\n",
       "      <th></th>\n",
       "      <th></th>\n",
       "      <th></th>\n",
       "      <th></th>\n",
       "      <th></th>\n",
       "    </tr>\n",
       "  </thead>\n",
       "  <tbody>\n",
       "    <tr>\n",
       "      <th>2002-01-01</th>\n",
       "      <td>NaN</td>\n",
       "      <td>0.001442</td>\n",
       "      <td>NaN</td>\n",
       "      <td>NaN</td>\n",
       "      <td>NaN</td>\n",
       "      <td>NaN</td>\n",
       "    </tr>\n",
       "    <tr>\n",
       "      <th>2002-02-01</th>\n",
       "      <td>-0.020985</td>\n",
       "      <td>0.001458</td>\n",
       "      <td>-0.027421</td>\n",
       "      <td>0.040043</td>\n",
       "      <td>-0.088309</td>\n",
       "      <td>-0.037347</td>\n",
       "    </tr>\n",
       "    <tr>\n",
       "      <th>2002-03-01</th>\n",
       "      <td>0.036080</td>\n",
       "      <td>0.001475</td>\n",
       "      <td>0.102495</td>\n",
       "      <td>-0.028823</td>\n",
       "      <td>0.033408</td>\n",
       "      <td>-0.261616</td>\n",
       "    </tr>\n",
       "    <tr>\n",
       "      <th>2002-04-01</th>\n",
       "      <td>-0.063385</td>\n",
       "      <td>0.001483</td>\n",
       "      <td>-0.029965</td>\n",
       "      <td>-0.170312</td>\n",
       "      <td>-0.143577</td>\n",
       "      <td>-0.242784</td>\n",
       "    </tr>\n",
       "    <tr>\n",
       "      <th>2002-05-01</th>\n",
       "      <td>-0.009123</td>\n",
       "      <td>0.001475</td>\n",
       "      <td>0.103915</td>\n",
       "      <td>-0.012856</td>\n",
       "      <td>-0.025764</td>\n",
       "      <td>-0.236664</td>\n",
       "    </tr>\n",
       "  </tbody>\n",
       "</table>\n",
       "</div>"
      ],
      "text/plain": [
       "                  RM        RF      FORD        GE  MICROSOFT    ORACLE\n",
       "Date                                                                   \n",
       "2002-01-01       NaN  0.001442       NaN       NaN        NaN       NaN\n",
       "2002-02-01 -0.020985  0.001458 -0.027421  0.040043  -0.088309 -0.037347\n",
       "2002-03-01  0.036080  0.001475  0.102495 -0.028823   0.033408 -0.261616\n",
       "2002-04-01 -0.063385  0.001483 -0.029965 -0.170312  -0.143577 -0.242784\n",
       "2002-05-01 -0.009123  0.001475  0.103915 -0.012856  -0.025764 -0.236664"
      ]
     },
     "execution_count": 4,
     "metadata": {},
     "output_type": "execute_result"
    }
   ],
   "source": [
    "returns = pd.DataFrame()\n",
    "returns['RM'] = np.log(df.SANDP/df.SANDP.shift(1))\n",
    "returns['RF'] = df.USTB3M / 100 / 12\n",
    "for asset in assets:\n",
    "    returns[asset] = np.log(df[asset]/df[asset].shift(1))\n",
    "returns.head()"
   ]
  },
  {
   "cell_type": "code",
   "execution_count": 5,
   "metadata": {},
   "outputs": [
    {
     "data": {
      "text/html": [
       "<div>\n",
       "<style scoped>\n",
       "    .dataframe tbody tr th:only-of-type {\n",
       "        vertical-align: middle;\n",
       "    }\n",
       "\n",
       "    .dataframe tbody tr th {\n",
       "        vertical-align: top;\n",
       "    }\n",
       "\n",
       "    .dataframe thead th {\n",
       "        text-align: right;\n",
       "    }\n",
       "</style>\n",
       "<table border=\"1\" class=\"dataframe\">\n",
       "  <thead>\n",
       "    <tr style=\"text-align: right;\">\n",
       "      <th></th>\n",
       "      <th>RM</th>\n",
       "      <th>RF</th>\n",
       "      <th>FORD</th>\n",
       "      <th>GE</th>\n",
       "      <th>MICROSOFT</th>\n",
       "      <th>ORACLE</th>\n",
       "      <th>RM_e</th>\n",
       "      <th>FORD_e</th>\n",
       "      <th>GE_e</th>\n",
       "      <th>MICROSOFT_e</th>\n",
       "      <th>ORACLE_e</th>\n",
       "    </tr>\n",
       "    <tr>\n",
       "      <th>Date</th>\n",
       "      <th></th>\n",
       "      <th></th>\n",
       "      <th></th>\n",
       "      <th></th>\n",
       "      <th></th>\n",
       "      <th></th>\n",
       "      <th></th>\n",
       "      <th></th>\n",
       "      <th></th>\n",
       "      <th></th>\n",
       "      <th></th>\n",
       "    </tr>\n",
       "  </thead>\n",
       "  <tbody>\n",
       "    <tr>\n",
       "      <th>2002-01-01</th>\n",
       "      <td>NaN</td>\n",
       "      <td>0.001442</td>\n",
       "      <td>NaN</td>\n",
       "      <td>NaN</td>\n",
       "      <td>NaN</td>\n",
       "      <td>NaN</td>\n",
       "      <td>NaN</td>\n",
       "      <td>NaN</td>\n",
       "      <td>NaN</td>\n",
       "      <td>NaN</td>\n",
       "      <td>NaN</td>\n",
       "    </tr>\n",
       "    <tr>\n",
       "      <th>2002-02-01</th>\n",
       "      <td>-0.020985</td>\n",
       "      <td>0.001458</td>\n",
       "      <td>-0.027421</td>\n",
       "      <td>0.040043</td>\n",
       "      <td>-0.088309</td>\n",
       "      <td>-0.037347</td>\n",
       "      <td>-0.022443</td>\n",
       "      <td>-0.028879</td>\n",
       "      <td>0.038585</td>\n",
       "      <td>-0.089768</td>\n",
       "      <td>-0.038806</td>\n",
       "    </tr>\n",
       "    <tr>\n",
       "      <th>2002-03-01</th>\n",
       "      <td>0.036080</td>\n",
       "      <td>0.001475</td>\n",
       "      <td>0.102495</td>\n",
       "      <td>-0.028823</td>\n",
       "      <td>0.033408</td>\n",
       "      <td>-0.261616</td>\n",
       "      <td>0.034605</td>\n",
       "      <td>0.101020</td>\n",
       "      <td>-0.030298</td>\n",
       "      <td>0.031933</td>\n",
       "      <td>-0.263091</td>\n",
       "    </tr>\n",
       "    <tr>\n",
       "      <th>2002-04-01</th>\n",
       "      <td>-0.063385</td>\n",
       "      <td>0.001483</td>\n",
       "      <td>-0.029965</td>\n",
       "      <td>-0.170312</td>\n",
       "      <td>-0.143577</td>\n",
       "      <td>-0.242784</td>\n",
       "      <td>-0.064868</td>\n",
       "      <td>-0.031448</td>\n",
       "      <td>-0.171796</td>\n",
       "      <td>-0.145060</td>\n",
       "      <td>-0.244267</td>\n",
       "    </tr>\n",
       "    <tr>\n",
       "      <th>2002-05-01</th>\n",
       "      <td>-0.009123</td>\n",
       "      <td>0.001475</td>\n",
       "      <td>0.103915</td>\n",
       "      <td>-0.012856</td>\n",
       "      <td>-0.025764</td>\n",
       "      <td>-0.236664</td>\n",
       "      <td>-0.010598</td>\n",
       "      <td>0.102440</td>\n",
       "      <td>-0.014331</td>\n",
       "      <td>-0.027239</td>\n",
       "      <td>-0.238139</td>\n",
       "    </tr>\n",
       "  </tbody>\n",
       "</table>\n",
       "</div>"
      ],
      "text/plain": [
       "                  RM        RF      FORD        GE  MICROSOFT    ORACLE  \\\n",
       "Date                                                                      \n",
       "2002-01-01       NaN  0.001442       NaN       NaN        NaN       NaN   \n",
       "2002-02-01 -0.020985  0.001458 -0.027421  0.040043  -0.088309 -0.037347   \n",
       "2002-03-01  0.036080  0.001475  0.102495 -0.028823   0.033408 -0.261616   \n",
       "2002-04-01 -0.063385  0.001483 -0.029965 -0.170312  -0.143577 -0.242784   \n",
       "2002-05-01 -0.009123  0.001475  0.103915 -0.012856  -0.025764 -0.236664   \n",
       "\n",
       "                RM_e    FORD_e      GE_e  MICROSOFT_e  ORACLE_e  \n",
       "Date                                                             \n",
       "2002-01-01       NaN       NaN       NaN          NaN       NaN  \n",
       "2002-02-01 -0.022443 -0.028879  0.038585    -0.089768 -0.038806  \n",
       "2002-03-01  0.034605  0.101020 -0.030298     0.031933 -0.263091  \n",
       "2002-04-01 -0.064868 -0.031448 -0.171796    -0.145060 -0.244267  \n",
       "2002-05-01 -0.010598  0.102440 -0.014331    -0.027239 -0.238139  "
      ]
     },
     "execution_count": 5,
     "metadata": {},
     "output_type": "execute_result"
    }
   ],
   "source": [
    "returns['RM_e'] = returns.RM - returns.RF\n",
    "assets_e = []\n",
    "for asset in assets:\n",
    "    assets_e.append(asset+'_e')\n",
    "for i in range(len(assets)):\n",
    "    returns[assets_e[i]] = returns[assets[i]] - returns.RF\n",
    "returns.head()"
   ]
  },
  {
   "cell_type": "code",
   "execution_count": 6,
   "metadata": {},
   "outputs": [],
   "source": [
    "from patsy import dmatrices\n",
    "import statsmodels.api as sm"
   ]
  },
  {
   "cell_type": "markdown",
   "metadata": {},
   "source": [
    "# General Electric"
   ]
  },
  {
   "cell_type": "code",
   "execution_count": 7,
   "metadata": {
    "scrolled": false
   },
   "outputs": [
    {
     "name": "stdout",
     "output_type": "stream",
     "text": [
      "193\n"
     ]
    },
    {
     "data": {
      "text/html": [
       "<div>\n",
       "<style scoped>\n",
       "    .dataframe tbody tr th:only-of-type {\n",
       "        vertical-align: middle;\n",
       "    }\n",
       "\n",
       "    .dataframe tbody tr th {\n",
       "        vertical-align: top;\n",
       "    }\n",
       "\n",
       "    .dataframe thead th {\n",
       "        text-align: right;\n",
       "    }\n",
       "</style>\n",
       "<table border=\"1\" class=\"dataframe\">\n",
       "  <thead>\n",
       "    <tr style=\"text-align: right;\">\n",
       "      <th></th>\n",
       "      <th>Intercept</th>\n",
       "      <th>RM_e</th>\n",
       "    </tr>\n",
       "    <tr>\n",
       "      <th>Date</th>\n",
       "      <th></th>\n",
       "      <th></th>\n",
       "    </tr>\n",
       "  </thead>\n",
       "  <tbody>\n",
       "    <tr>\n",
       "      <th>2002-02-01</th>\n",
       "      <td>1.0</td>\n",
       "      <td>-0.022443</td>\n",
       "    </tr>\n",
       "    <tr>\n",
       "      <th>2002-03-01</th>\n",
       "      <td>1.0</td>\n",
       "      <td>0.034605</td>\n",
       "    </tr>\n",
       "    <tr>\n",
       "      <th>2002-04-01</th>\n",
       "      <td>1.0</td>\n",
       "      <td>-0.064868</td>\n",
       "    </tr>\n",
       "    <tr>\n",
       "      <th>2002-05-01</th>\n",
       "      <td>1.0</td>\n",
       "      <td>-0.010598</td>\n",
       "    </tr>\n",
       "    <tr>\n",
       "      <th>2002-06-01</th>\n",
       "      <td>1.0</td>\n",
       "      <td>-0.076673</td>\n",
       "    </tr>\n",
       "  </tbody>\n",
       "</table>\n",
       "</div>"
      ],
      "text/plain": [
       "            Intercept      RM_e\n",
       "Date                           \n",
       "2002-02-01        1.0 -0.022443\n",
       "2002-03-01        1.0  0.034605\n",
       "2002-04-01        1.0 -0.064868\n",
       "2002-05-01        1.0 -0.010598\n",
       "2002-06-01        1.0 -0.076673"
      ]
     },
     "execution_count": 7,
     "metadata": {},
     "output_type": "execute_result"
    }
   ],
   "source": [
    "y, X = dmatrices('GE_e ~ RM_e', data=returns, return_type='dataframe')\n",
    "print(len(X))\n",
    "X.head()"
   ]
  },
  {
   "cell_type": "code",
   "execution_count": 8,
   "metadata": {},
   "outputs": [
    {
     "name": "stdout",
     "output_type": "stream",
     "text": [
      "                            OLS Regression Results                            \n",
      "==============================================================================\n",
      "Dep. Variable:                   GE_e   R-squared:                       0.487\n",
      "Model:                            OLS   Adj. R-squared:                  0.485\n",
      "Method:                 Least Squares   F-statistic:                     181.5\n",
      "Date:                Thu, 26 Sep 2019   Prob (F-statistic):           1.61e-29\n",
      "Time:                        18:22:54   Log-Likelihood:                 286.24\n",
      "No. Observations:                 193   AIC:                            -568.5\n",
      "Df Residuals:                     191   BIC:                            -561.9\n",
      "Df Model:                           1                                         \n",
      "Covariance Type:            nonrobust                                         \n",
      "==============================================================================\n",
      "                 coef    std err          t      P>|t|      [0.025      0.975]\n",
      "------------------------------------------------------------------------------\n",
      "Intercept     -0.0087      0.004     -2.179      0.031      -0.017      -0.001\n",
      "RM_e           1.2977      0.096     13.474      0.000       1.108       1.488\n",
      "==============================================================================\n",
      "Omnibus:                       16.331   Durbin-Watson:                   1.832\n",
      "Prob(Omnibus):                  0.000   Jarque-Bera (JB):               45.531\n",
      "Skew:                          -0.225   Prob(JB):                     1.30e-10\n",
      "Kurtosis:                       5.336   Cond. No.                         24.2\n",
      "==============================================================================\n",
      "\n",
      "Warnings:\n",
      "[1] Standard Errors assume that the covariance matrix of the errors is correctly specified.\n"
     ]
    }
   ],
   "source": [
    "model = sm.OLS(y, X)    # Describe model\n",
    "results = model.fit()       # Fit model\n",
    "print(results.summary())   # Summarize model"
   ]
  },
  {
   "cell_type": "code",
   "execution_count": 9,
   "metadata": {},
   "outputs": [
    {
     "data": {
      "text/plain": [
       "(5.854350372663208,\n",
       " 0.053548088071907494,\n",
       " 2.9718205392991686,\n",
       " 0.053595776034563364)"
      ]
     },
     "execution_count": 9,
     "metadata": {},
     "output_type": "execute_result"
    }
   ],
   "source": [
    "sm.stats.diagnostic.het_white(results.resid, X, retres=False)"
   ]
  },
  {
   "cell_type": "code",
   "execution_count": 16,
   "metadata": {},
   "outputs": [
    {
     "data": {
      "text/plain": [
       "(30.781971660773408,\n",
       " 0.0021265131903923907,\n",
       " 2.8305387219128484,\n",
       " 0.0014077236820501278)"
      ]
     },
     "execution_count": 16,
     "metadata": {},
     "output_type": "execute_result"
    }
   ],
   "source": [
    "sm.stats.diagnostic.acorr_breusch_godfrey(results, nlags=12, store=False)"
   ]
  },
  {
   "cell_type": "code",
   "execution_count": 18,
   "metadata": {},
   "outputs": [
    {
     "data": {
      "text/plain": [
       "(1.2664477690527798, 0.0808872643934329, [(1, 1.63), (5, 1.36), (10, 1.22)])"
      ]
     },
     "execution_count": 18,
     "metadata": {},
     "output_type": "execute_result"
    }
   ],
   "source": [
    "sm.stats.diagnostic.breaks_cusumolsresid(results.resid, ddof=1)"
   ]
  },
  {
   "cell_type": "markdown",
   "metadata": {},
   "source": [
    "# Ford"
   ]
  },
  {
   "cell_type": "code",
   "execution_count": 19,
   "metadata": {
    "scrolled": false
   },
   "outputs": [
    {
     "name": "stdout",
     "output_type": "stream",
     "text": [
      "193\n"
     ]
    },
    {
     "data": {
      "text/html": [
       "<div>\n",
       "<style scoped>\n",
       "    .dataframe tbody tr th:only-of-type {\n",
       "        vertical-align: middle;\n",
       "    }\n",
       "\n",
       "    .dataframe tbody tr th {\n",
       "        vertical-align: top;\n",
       "    }\n",
       "\n",
       "    .dataframe thead th {\n",
       "        text-align: right;\n",
       "    }\n",
       "</style>\n",
       "<table border=\"1\" class=\"dataframe\">\n",
       "  <thead>\n",
       "    <tr style=\"text-align: right;\">\n",
       "      <th></th>\n",
       "      <th>Intercept</th>\n",
       "      <th>RM_e</th>\n",
       "    </tr>\n",
       "    <tr>\n",
       "      <th>Date</th>\n",
       "      <th></th>\n",
       "      <th></th>\n",
       "    </tr>\n",
       "  </thead>\n",
       "  <tbody>\n",
       "    <tr>\n",
       "      <th>2002-02-01</th>\n",
       "      <td>1.0</td>\n",
       "      <td>-0.022443</td>\n",
       "    </tr>\n",
       "    <tr>\n",
       "      <th>2002-03-01</th>\n",
       "      <td>1.0</td>\n",
       "      <td>0.034605</td>\n",
       "    </tr>\n",
       "    <tr>\n",
       "      <th>2002-04-01</th>\n",
       "      <td>1.0</td>\n",
       "      <td>-0.064868</td>\n",
       "    </tr>\n",
       "    <tr>\n",
       "      <th>2002-05-01</th>\n",
       "      <td>1.0</td>\n",
       "      <td>-0.010598</td>\n",
       "    </tr>\n",
       "    <tr>\n",
       "      <th>2002-06-01</th>\n",
       "      <td>1.0</td>\n",
       "      <td>-0.076673</td>\n",
       "    </tr>\n",
       "  </tbody>\n",
       "</table>\n",
       "</div>"
      ],
      "text/plain": [
       "            Intercept      RM_e\n",
       "Date                           \n",
       "2002-02-01        1.0 -0.022443\n",
       "2002-03-01        1.0  0.034605\n",
       "2002-04-01        1.0 -0.064868\n",
       "2002-05-01        1.0 -0.010598\n",
       "2002-06-01        1.0 -0.076673"
      ]
     },
     "execution_count": 19,
     "metadata": {},
     "output_type": "execute_result"
    }
   ],
   "source": [
    "y, X = dmatrices('FORD_e ~ RM_e', data=returns, return_type='dataframe')\n",
    "print(len(X))\n",
    "X.head()"
   ]
  },
  {
   "cell_type": "code",
   "execution_count": 20,
   "metadata": {},
   "outputs": [
    {
     "name": "stdout",
     "output_type": "stream",
     "text": [
      "                            OLS Regression Results                            \n",
      "==============================================================================\n",
      "Dep. Variable:                 FORD_e   R-squared:                       0.339\n",
      "Model:                            OLS   Adj. R-squared:                  0.335\n",
      "Method:                 Least Squares   F-statistic:                     97.93\n",
      "Date:                Thu, 26 Sep 2019   Prob (F-statistic):           6.68e-19\n",
      "Time:                        18:37:17   Log-Likelihood:                 153.86\n",
      "No. Observations:                 193   AIC:                            -303.7\n",
      "Df Residuals:                     191   BIC:                            -297.2\n",
      "Df Model:                           1                                         \n",
      "Covariance Type:            nonrobust                                         \n",
      "==============================================================================\n",
      "                 coef    std err          t      P>|t|      [0.025      0.975]\n",
      "------------------------------------------------------------------------------\n",
      "Intercept     -0.0085      0.008     -1.079      0.282      -0.024       0.007\n",
      "RM_e           1.8925      0.191      9.896      0.000       1.515       2.270\n",
      "==============================================================================\n",
      "Omnibus:                       71.946   Durbin-Watson:                   2.520\n",
      "Prob(Omnibus):                  0.000   Jarque-Bera (JB):              677.852\n",
      "Skew:                           1.093   Prob(JB):                    6.40e-148\n",
      "Kurtosis:                      11.917   Cond. No.                         24.2\n",
      "==============================================================================\n",
      "\n",
      "Warnings:\n",
      "[1] Standard Errors assume that the covariance matrix of the errors is correctly specified.\n"
     ]
    }
   ],
   "source": [
    "model = sm.OLS(y, X)    # Describe model\n",
    "results = model.fit()       # Fit model\n",
    "print(results.summary())   # Summarize model"
   ]
  },
  {
   "cell_type": "code",
   "execution_count": 21,
   "metadata": {},
   "outputs": [
    {
     "data": {
      "text/plain": [
       "(66.56994343973969,\n",
       " 3.5036478725856526e-15,\n",
       " 50.0208953379768,\n",
       " 3.530508047109268e-18)"
      ]
     },
     "execution_count": 21,
     "metadata": {},
     "output_type": "execute_result"
    }
   ],
   "source": [
    "sm.stats.diagnostic.het_white(results.resid, X, retres=False)"
   ]
  },
  {
   "cell_type": "code",
   "execution_count": 22,
   "metadata": {},
   "outputs": [
    {
     "data": {
      "text/plain": [
       "(44.407242833866874,\n",
       " 1.3014591340558058e-05,\n",
       " 4.457875683657406,\n",
       " 3.032250506051561e-06)"
      ]
     },
     "execution_count": 22,
     "metadata": {},
     "output_type": "execute_result"
    }
   ],
   "source": [
    "sm.stats.diagnostic.acorr_breusch_godfrey(results, nlags=12, store=False)"
   ]
  },
  {
   "cell_type": "code",
   "execution_count": 23,
   "metadata": {},
   "outputs": [
    {
     "data": {
      "text/plain": [
       "(0.7777074769701744, 0.5808002843028807, [(1, 1.63), (5, 1.36), (10, 1.22)])"
      ]
     },
     "execution_count": 23,
     "metadata": {},
     "output_type": "execute_result"
    }
   ],
   "source": [
    "sm.stats.diagnostic.breaks_cusumolsresid(results.resid, ddof=1)"
   ]
  },
  {
   "cell_type": "markdown",
   "metadata": {},
   "source": [
    "# MICROSOFT"
   ]
  },
  {
   "cell_type": "code",
   "execution_count": 24,
   "metadata": {
    "scrolled": false
   },
   "outputs": [
    {
     "name": "stdout",
     "output_type": "stream",
     "text": [
      "193\n"
     ]
    },
    {
     "data": {
      "text/html": [
       "<div>\n",
       "<style scoped>\n",
       "    .dataframe tbody tr th:only-of-type {\n",
       "        vertical-align: middle;\n",
       "    }\n",
       "\n",
       "    .dataframe tbody tr th {\n",
       "        vertical-align: top;\n",
       "    }\n",
       "\n",
       "    .dataframe thead th {\n",
       "        text-align: right;\n",
       "    }\n",
       "</style>\n",
       "<table border=\"1\" class=\"dataframe\">\n",
       "  <thead>\n",
       "    <tr style=\"text-align: right;\">\n",
       "      <th></th>\n",
       "      <th>Intercept</th>\n",
       "      <th>RM_e</th>\n",
       "    </tr>\n",
       "    <tr>\n",
       "      <th>Date</th>\n",
       "      <th></th>\n",
       "      <th></th>\n",
       "    </tr>\n",
       "  </thead>\n",
       "  <tbody>\n",
       "    <tr>\n",
       "      <th>2002-02-01</th>\n",
       "      <td>1.0</td>\n",
       "      <td>-0.022443</td>\n",
       "    </tr>\n",
       "    <tr>\n",
       "      <th>2002-03-01</th>\n",
       "      <td>1.0</td>\n",
       "      <td>0.034605</td>\n",
       "    </tr>\n",
       "    <tr>\n",
       "      <th>2002-04-01</th>\n",
       "      <td>1.0</td>\n",
       "      <td>-0.064868</td>\n",
       "    </tr>\n",
       "    <tr>\n",
       "      <th>2002-05-01</th>\n",
       "      <td>1.0</td>\n",
       "      <td>-0.010598</td>\n",
       "    </tr>\n",
       "    <tr>\n",
       "      <th>2002-06-01</th>\n",
       "      <td>1.0</td>\n",
       "      <td>-0.076673</td>\n",
       "    </tr>\n",
       "  </tbody>\n",
       "</table>\n",
       "</div>"
      ],
      "text/plain": [
       "            Intercept      RM_e\n",
       "Date                           \n",
       "2002-02-01        1.0 -0.022443\n",
       "2002-03-01        1.0  0.034605\n",
       "2002-04-01        1.0 -0.064868\n",
       "2002-05-01        1.0 -0.010598\n",
       "2002-06-01        1.0 -0.076673"
      ]
     },
     "execution_count": 24,
     "metadata": {},
     "output_type": "execute_result"
    }
   ],
   "source": [
    "y, X = dmatrices('MICROSOFT_e ~ RM_e', data=returns, return_type='dataframe')\n",
    "print(len(X))\n",
    "X.head()"
   ]
  },
  {
   "cell_type": "code",
   "execution_count": 25,
   "metadata": {},
   "outputs": [
    {
     "name": "stdout",
     "output_type": "stream",
     "text": [
      "                            OLS Regression Results                            \n",
      "==============================================================================\n",
      "Dep. Variable:            MICROSOFT_e   R-squared:                       0.383\n",
      "Model:                            OLS   Adj. R-squared:                  0.380\n",
      "Method:                 Least Squares   F-statistic:                     118.7\n",
      "Date:                Thu, 26 Sep 2019   Prob (F-statistic):           8.22e-22\n",
      "Time:                        18:41:27   Log-Likelihood:                 293.11\n",
      "No. Observations:                 193   AIC:                            -582.2\n",
      "Df Residuals:                     191   BIC:                            -575.7\n",
      "Df Model:                           1                                         \n",
      "Covariance Type:            nonrobust                                         \n",
      "==============================================================================\n",
      "                 coef    std err          t      P>|t|      [0.025      0.975]\n",
      "------------------------------------------------------------------------------\n",
      "Intercept      0.0018      0.004      0.468      0.640      -0.006       0.009\n",
      "RM_e           1.0128      0.093     10.897      0.000       0.829       1.196\n",
      "==============================================================================\n",
      "Omnibus:                       12.364   Durbin-Watson:                   2.359\n",
      "Prob(Omnibus):                  0.002   Jarque-Bera (JB):               19.026\n",
      "Skew:                           0.371   Prob(JB):                     7.39e-05\n",
      "Kurtosis:                       4.347   Cond. No.                         24.2\n",
      "==============================================================================\n",
      "\n",
      "Warnings:\n",
      "[1] Standard Errors assume that the covariance matrix of the errors is correctly specified.\n"
     ]
    }
   ],
   "source": [
    "model = sm.OLS(y, X)    # Describe model\n",
    "results = model.fit()       # Fit model\n",
    "print(results.summary())   # Summarize model"
   ]
  },
  {
   "cell_type": "code",
   "execution_count": 26,
   "metadata": {},
   "outputs": [
    {
     "data": {
      "text/plain": [
       "(0.30813693365085826,\n",
       " 0.8572133283269234,\n",
       " 0.15191616413378325,\n",
       " 0.8591645395340689)"
      ]
     },
     "execution_count": 26,
     "metadata": {},
     "output_type": "execute_result"
    }
   ],
   "source": [
    "sm.stats.diagnostic.het_white(results.resid, X, retres=False)"
   ]
  },
  {
   "cell_type": "code",
   "execution_count": 27,
   "metadata": {},
   "outputs": [
    {
     "data": {
      "text/plain": [
       "(16.958029924608383,\n",
       " 0.15118291691979086,\n",
       " 1.4369146153068517,\n",
       " 0.15279880084548358)"
      ]
     },
     "execution_count": 27,
     "metadata": {},
     "output_type": "execute_result"
    }
   ],
   "source": [
    "sm.stats.diagnostic.acorr_breusch_godfrey(results, nlags=12, store=False)"
   ]
  },
  {
   "cell_type": "code",
   "execution_count": 28,
   "metadata": {},
   "outputs": [
    {
     "data": {
      "text/plain": [
       "(0.7122012476475021, 0.6908395209006682, [(1, 1.63), (5, 1.36), (10, 1.22)])"
      ]
     },
     "execution_count": 28,
     "metadata": {},
     "output_type": "execute_result"
    }
   ],
   "source": [
    "sm.stats.diagnostic.breaks_cusumolsresid(results.resid, ddof=1)"
   ]
  },
  {
   "cell_type": "markdown",
   "metadata": {},
   "source": [
    "# ORACLE"
   ]
  },
  {
   "cell_type": "code",
   "execution_count": 29,
   "metadata": {
    "scrolled": false
   },
   "outputs": [
    {
     "name": "stdout",
     "output_type": "stream",
     "text": [
      "193\n"
     ]
    },
    {
     "data": {
      "text/html": [
       "<div>\n",
       "<style scoped>\n",
       "    .dataframe tbody tr th:only-of-type {\n",
       "        vertical-align: middle;\n",
       "    }\n",
       "\n",
       "    .dataframe tbody tr th {\n",
       "        vertical-align: top;\n",
       "    }\n",
       "\n",
       "    .dataframe thead th {\n",
       "        text-align: right;\n",
       "    }\n",
       "</style>\n",
       "<table border=\"1\" class=\"dataframe\">\n",
       "  <thead>\n",
       "    <tr style=\"text-align: right;\">\n",
       "      <th></th>\n",
       "      <th>Intercept</th>\n",
       "      <th>RM_e</th>\n",
       "    </tr>\n",
       "    <tr>\n",
       "      <th>Date</th>\n",
       "      <th></th>\n",
       "      <th></th>\n",
       "    </tr>\n",
       "  </thead>\n",
       "  <tbody>\n",
       "    <tr>\n",
       "      <th>2002-02-01</th>\n",
       "      <td>1.0</td>\n",
       "      <td>-0.022443</td>\n",
       "    </tr>\n",
       "    <tr>\n",
       "      <th>2002-03-01</th>\n",
       "      <td>1.0</td>\n",
       "      <td>0.034605</td>\n",
       "    </tr>\n",
       "    <tr>\n",
       "      <th>2002-04-01</th>\n",
       "      <td>1.0</td>\n",
       "      <td>-0.064868</td>\n",
       "    </tr>\n",
       "    <tr>\n",
       "      <th>2002-05-01</th>\n",
       "      <td>1.0</td>\n",
       "      <td>-0.010598</td>\n",
       "    </tr>\n",
       "    <tr>\n",
       "      <th>2002-06-01</th>\n",
       "      <td>1.0</td>\n",
       "      <td>-0.076673</td>\n",
       "    </tr>\n",
       "  </tbody>\n",
       "</table>\n",
       "</div>"
      ],
      "text/plain": [
       "            Intercept      RM_e\n",
       "Date                           \n",
       "2002-02-01        1.0 -0.022443\n",
       "2002-03-01        1.0  0.034605\n",
       "2002-04-01        1.0 -0.064868\n",
       "2002-05-01        1.0 -0.010598\n",
       "2002-06-01        1.0 -0.076673"
      ]
     },
     "execution_count": 29,
     "metadata": {},
     "output_type": "execute_result"
    }
   ],
   "source": [
    "y, X = dmatrices('ORACLE_e ~ RM_e', data=returns, return_type='dataframe')\n",
    "print(len(X))\n",
    "X.head()"
   ]
  },
  {
   "cell_type": "code",
   "execution_count": 30,
   "metadata": {},
   "outputs": [
    {
     "name": "stdout",
     "output_type": "stream",
     "text": [
      "                            OLS Regression Results                            \n",
      "==============================================================================\n",
      "Dep. Variable:               ORACLE_e   R-squared:                       0.331\n",
      "Model:                            OLS   Adj. R-squared:                  0.328\n",
      "Method:                 Least Squares   F-statistic:                     94.58\n",
      "Date:                Thu, 26 Sep 2019   Prob (F-statistic):           2.06e-18\n",
      "Time:                        18:45:06   Log-Likelihood:                 257.29\n",
      "No. Observations:                 193   AIC:                            -510.6\n",
      "Df Residuals:                     191   BIC:                            -504.0\n",
      "Df Model:                           1                                         \n",
      "Covariance Type:            nonrobust                                         \n",
      "==============================================================================\n",
      "                 coef    std err          t      P>|t|      [0.025      0.975]\n",
      "------------------------------------------------------------------------------\n",
      "Intercept      0.0009      0.005      0.198      0.843      -0.008       0.010\n",
      "RM_e           1.0883      0.112      9.725      0.000       0.868       1.309\n",
      "==============================================================================\n",
      "Omnibus:                       31.716   Durbin-Watson:                   1.878\n",
      "Prob(Omnibus):                  0.000   Jarque-Bera (JB):              148.403\n",
      "Skew:                          -0.452   Prob(JB):                     5.95e-33\n",
      "Kurtosis:                       7.200   Cond. No.                         24.2\n",
      "==============================================================================\n",
      "\n",
      "Warnings:\n",
      "[1] Standard Errors assume that the covariance matrix of the errors is correctly specified.\n"
     ]
    }
   ],
   "source": [
    "model = sm.OLS(y, X)    # Describe model\n",
    "results = model.fit()       # Fit model\n",
    "print(results.summary())   # Summarize model"
   ]
  },
  {
   "cell_type": "code",
   "execution_count": 31,
   "metadata": {},
   "outputs": [
    {
     "data": {
      "text/plain": [
       "(1.7563753751070266,\n",
       " 0.4155353094990406,\n",
       " 0.8724769830232981,\n",
       " 0.4195825692749361)"
      ]
     },
     "execution_count": 31,
     "metadata": {},
     "output_type": "execute_result"
    }
   ],
   "source": [
    "sm.stats.diagnostic.het_white(results.resid, X, retres=False)"
   ]
  },
  {
   "cell_type": "code",
   "execution_count": 32,
   "metadata": {},
   "outputs": [
    {
     "data": {
      "text/plain": [
       "(15.253942448714326,\n",
       " 0.22784199190009155,\n",
       " 1.2801295173274745,\n",
       " 0.23365175593980686)"
      ]
     },
     "execution_count": 32,
     "metadata": {},
     "output_type": "execute_result"
    }
   ],
   "source": [
    "sm.stats.diagnostic.acorr_breusch_godfrey(results, nlags=12, store=False)"
   ]
  },
  {
   "cell_type": "code",
   "execution_count": 33,
   "metadata": {},
   "outputs": [
    {
     "data": {
      "text/plain": [
       "(0.8092177592718804, 0.5292205212501961, [(1, 1.63), (5, 1.36), (10, 1.22)])"
      ]
     },
     "execution_count": 33,
     "metadata": {},
     "output_type": "execute_result"
    }
   ],
   "source": [
    "sm.stats.diagnostic.breaks_cusumolsresid(results.resid, ddof=1)"
   ]
  },
  {
   "cell_type": "code",
   "execution_count": null,
   "metadata": {},
   "outputs": [],
   "source": []
  }
 ],
 "metadata": {
  "kernelspec": {
   "display_name": "Python 3",
   "language": "python",
   "name": "python3"
  },
  "language_info": {
   "codemirror_mode": {
    "name": "ipython",
    "version": 3
   },
   "file_extension": ".py",
   "mimetype": "text/x-python",
   "name": "python",
   "nbconvert_exporter": "python",
   "pygments_lexer": "ipython3",
   "version": "3.7.3"
  }
 },
 "nbformat": 4,
 "nbformat_minor": 2
}
